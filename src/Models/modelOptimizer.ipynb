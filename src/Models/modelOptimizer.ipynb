{
 "cells": [
  {
   "cell_type": "code",
   "execution_count": 1,
   "metadata": {},
   "outputs": [],
   "source": [
    "import pandas as pd\n",
    "from keras.layers import Dense, Dropout, Activation, Input\n",
    "from keras.models import Model\n",
    "from sklearn.preprocessing import LabelEncoder, OneHotEncoder\n",
    "from sklearn.model_selection import train_test_split\n",
    "from keras.wrappers.scikit_learn import KerasClassifier\n",
    "from sklearn.model_selection import GridSearchCV\n",
    "from sklearn import metrics\n",
    "import datetime\n",
    "import json\n",
    "import numpy as np\n",
    "\n",
    "from utils import *"
   ]
  },
  {
   "cell_type": "code",
   "execution_count": 2,
   "metadata": {},
   "outputs": [],
   "source": [
    "base = pd.read_csv('../DataExplore/eegPatternBandDHT.csv')\n",
    "base = base.drop_duplicates(keep='first')"
   ]
  },
  {
   "cell_type": "code",
   "execution_count": 3,
   "metadata": {},
   "outputs": [],
   "source": [
    "features = base.drop(columns=['zzclassification'])\n",
    "classes = base.loc[:, [\"zzclassification\"]].values"
   ]
  },
  {
   "cell_type": "code",
   "execution_count": 4,
   "metadata": {},
   "outputs": [
    {
     "name": "stderr",
     "output_type": "stream",
     "text": [
      "c:\\ProgramData\\anaconda3\\lib\\site-packages\\sklearn\\preprocessing\\_label.py:116: DataConversionWarning: A column-vector y was passed when a 1d array was expected. Please change the shape of y to (n_samples, ), for example using ravel().\n",
      "  y = column_or_1d(y, warn=True)\n"
     ]
    }
   ],
   "source": [
    "labelEncoder_prev = LabelEncoder()\n",
    "classes = labelEncoder_prev.fit_transform(classes)"
   ]
  },
  {
   "cell_type": "code",
   "execution_count": 5,
   "metadata": {},
   "outputs": [],
   "source": [
    "trainingInputs, testInputs, trainingClasses, testClasses = train_test_split(features, classes, test_size=0.25)"
   ]
  },
  {
   "cell_type": "code",
   "execution_count": 6,
   "metadata": {},
   "outputs": [
    {
     "name": "stderr",
     "output_type": "stream",
     "text": [
      "C:\\Users\\Greze\\AppData\\Local\\Temp\\ipykernel_14496\\3288808128.py:1: DeprecationWarning: KerasClassifier is deprecated, use Sci-Keras (https://github.com/adriangb/scikeras) instead. See https://www.adriangb.com/scikeras/stable/migration.html for help migrating.\n",
      "  classifier = KerasClassifier(build_fn=createNetwork)\n"
     ]
    }
   ],
   "source": [
    "classifier = KerasClassifier(build_fn=createNetwork)\n",
    "parameters = {\n",
    "    'batch_size': [30, 35],\n",
    "    'epochs': [1000],\n",
    "    'inputShape': [(34,)],\n",
    "    'hiddenLayerUnits': [[8,8], [8], [8,8,8], [12]],\n",
    "    'kernel_initializer': ['random_uniform', 'normal'],\n",
    "    'optimizer': ['adam'],\n",
    "    'loss': ['binary_crossentropy'],\n",
    "    \n",
    "}"
   ]
  },
  {
   "cell_type": "code",
   "execution_count": 7,
   "metadata": {},
   "outputs": [
    {
     "name": "stdout",
     "output_type": "stream",
     "text": [
      "1/1 [==============================] - 0s 111ms/step\n",
      "1/1 [==============================] - 0s 88ms/step\n",
      "1/1 [==============================] - 0s 88ms/step\n",
      "1/1 [==============================] - 0s 92ms/step\n",
      "WARNING:tensorflow:5 out of the last 5 calls to <function Model.make_predict_function.<locals>.predict_function at 0x000001E127FB1000> triggered tf.function retracing. Tracing is expensive and the excessive number of tracings could be due to (1) creating @tf.function repeatedly in a loop, (2) passing tensors with different shapes, (3) passing Python objects instead of tensors. For (1), please define your @tf.function outside of the loop. For (2), @tf.function has reduce_retracing=True option that can avoid unnecessary retracing. For (3), please refer to https://www.tensorflow.org/guide/function#controlling_retracing and https://www.tensorflow.org/api_docs/python/tf/function for  more details.\n",
      "1/1 [==============================] - 0s 102ms/step\n",
      "WARNING:tensorflow:6 out of the last 6 calls to <function Model.make_predict_function.<locals>.predict_function at 0x000001E127FB2050> triggered tf.function retracing. Tracing is expensive and the excessive number of tracings could be due to (1) creating @tf.function repeatedly in a loop, (2) passing tensors with different shapes, (3) passing Python objects instead of tensors. For (1), please define your @tf.function outside of the loop. For (2), @tf.function has reduce_retracing=True option that can avoid unnecessary retracing. For (3), please refer to https://www.tensorflow.org/guide/function#controlling_retracing and https://www.tensorflow.org/api_docs/python/tf/function for  more details.\n",
      "1/1 [==============================] - 0s 75ms/step\n",
      "1/1 [==============================] - 0s 93ms/step\n",
      "1/1 [==============================] - 0s 60ms/step\n",
      "1/1 [==============================] - 0s 68ms/step\n",
      "1/1 [==============================] - 0s 61ms/step\n",
      "1/1 [==============================] - 0s 79ms/step\n",
      "1/1 [==============================] - 0s 53ms/step\n",
      "1/1 [==============================] - 0s 78ms/step\n",
      "1/1 [==============================] - 0s 58ms/step\n",
      "1/1 [==============================] - 0s 55ms/step\n",
      "1/1 [==============================] - 0s 50ms/step\n",
      "1/1 [==============================] - 0s 50ms/step\n",
      "1/1 [==============================] - 0s 46ms/step\n",
      "1/1 [==============================] - 0s 51ms/step\n",
      "1/1 [==============================] - 0s 50ms/step\n",
      "1/1 [==============================] - 0s 52ms/step\n",
      "1/1 [==============================] - 0s 66ms/step\n",
      "1/1 [==============================] - 0s 65ms/step\n",
      "1/1 [==============================] - 0s 65ms/step\n",
      "1/1 [==============================] - 0s 65ms/step\n",
      "1/1 [==============================] - 0s 65ms/step\n",
      "1/1 [==============================] - 0s 65ms/step\n",
      "1/1 [==============================] - 0s 66ms/step\n",
      "1/1 [==============================] - 0s 66ms/step\n",
      "1/1 [==============================] - 0s 65ms/step\n",
      "1/1 [==============================] - 0s 52ms/step\n",
      "1/1 [==============================] - 0s 51ms/step\n",
      "1/1 [==============================] - 0s 53ms/step\n",
      "1/1 [==============================] - 0s 52ms/step\n",
      "1/1 [==============================] - 0s 50ms/step\n",
      "1/1 [==============================] - 0s 50ms/step\n",
      "1/1 [==============================] - 0s 50ms/step\n",
      "1/1 [==============================] - 0s 52ms/step\n",
      "1/1 [==============================] - 0s 51ms/step\n",
      "1/1 [==============================] - 0s 51ms/step\n",
      "1/1 [==============================] - 0s 58ms/step\n",
      "1/1 [==============================] - 0s 60ms/step\n",
      "1/1 [==============================] - 0s 58ms/step\n",
      "1/1 [==============================] - 0s 59ms/step\n",
      "1/1 [==============================] - 0s 58ms/step\n",
      "1/1 [==============================] - 0s 59ms/step\n",
      "1/1 [==============================] - 0s 60ms/step\n",
      "1/1 [==============================] - 0s 58ms/step\n",
      "1/1 [==============================] - 0s 58ms/step\n",
      "1/1 [==============================] - 0s 58ms/step\n",
      "1/1 [==============================] - 0s 52ms/step\n",
      "1/1 [==============================] - 0s 53ms/step\n",
      "1/1 [==============================] - 0s 53ms/step\n",
      "1/1 [==============================] - 0s 52ms/step\n",
      "1/1 [==============================] - 0s 52ms/step\n",
      "1/1 [==============================] - 0s 51ms/step\n",
      "1/1 [==============================] - 0s 52ms/step\n",
      "1/1 [==============================] - 0s 45ms/step\n",
      "1/1 [==============================] - 0s 52ms/step\n",
      "1/1 [==============================] - 0s 50ms/step\n",
      "1/1 [==============================] - 0s 55ms/step\n",
      "1/1 [==============================] - 0s 69ms/step\n",
      "1/1 [==============================] - 0s 65ms/step\n",
      "1/1 [==============================] - 0s 66ms/step\n",
      "1/1 [==============================] - 0s 67ms/step\n",
      "1/1 [==============================] - 0s 66ms/step\n",
      "1/1 [==============================] - 0s 65ms/step\n",
      "1/1 [==============================] - 0s 63ms/step\n",
      "1/1 [==============================] - 0s 74ms/step\n",
      "1/1 [==============================] - 0s 64ms/step\n",
      "1/1 [==============================] - 0s 54ms/step\n",
      "1/1 [==============================] - 0s 51ms/step\n",
      "1/1 [==============================] - 0s 52ms/step\n",
      "1/1 [==============================] - 0s 52ms/step\n",
      "1/1 [==============================] - 0s 51ms/step\n",
      "1/1 [==============================] - 0s 52ms/step\n",
      "1/1 [==============================] - 0s 52ms/step\n",
      "1/1 [==============================] - 0s 52ms/step\n",
      "1/1 [==============================] - 0s 52ms/step\n",
      "1/1 [==============================] - 0s 46ms/step\n"
     ]
    }
   ],
   "source": [
    "gridSearch = GridSearchCV(\n",
    "    estimator=classifier,\n",
    "    param_grid=parameters,\n",
    "    scoring='accuracy',\n",
    "    cv=5    \n",
    ")\n",
    "\n",
    "gridSearch = gridSearch.fit(\n",
    "    trainingInputs,\n",
    "    trainingClasses,\n",
    "    verbose=0,\n",
    "    use_multiprocessing = True\n",
    ")"
   ]
  },
  {
   "cell_type": "code",
   "execution_count": 8,
   "metadata": {},
   "outputs": [],
   "source": [
    "best_params = gridSearch.best_params_\n",
    "best_accuracy = gridSearch.best_score_"
   ]
  },
  {
   "cell_type": "code",
   "execution_count": 9,
   "metadata": {},
   "outputs": [],
   "source": [
    "logFile = 'modelLog.json'\n",
    "\n",
    "execution_date = datetime.datetime.now().strftime(\"%Y-%m-%d %H:%M:%S\")\n",
    "accuracy = best_accuracy\n",
    "params = best_params\n",
    "append_log(execution_date, accuracy, params, base.columns.values.tolist(), logFile)"
   ]
  },
  {
   "cell_type": "code",
   "execution_count": 10,
   "metadata": {},
   "outputs": [
    {
     "name": "stdout",
     "output_type": "stream",
     "text": [
      "0.7555555555555555\n",
      "{'batch_size': 30, 'epochs': 1000, 'hiddenLayerUnits': [12], 'inputShape': (34,), 'kernel_initializer': 'random_uniform', 'loss': 'binary_crossentropy', 'optimizer': 'adam'}\n"
     ]
    }
   ],
   "source": [
    "print(best_accuracy)\n",
    "print(best_params)"
   ]
  },
  {
   "cell_type": "code",
   "execution_count": null,
   "metadata": {},
   "outputs": [],
   "source": []
  },
  {
   "cell_type": "code",
   "execution_count": 1,
   "metadata": {},
   "outputs": [],
   "source": [
    "l1 = [\n",
    "                \"amplitudeVariation\",\n",
    "                \"kurtosis\",\n",
    "                \"max\",\n",
    "                \"mean\",\n",
    "                \"meanAmplitude\",\n",
    "                \"meanFrequency\",\n",
    "                \"median\",\n",
    "                \"medianFrequency\",\n",
    "                \"min\",\n",
    "                \"rms\",\n",
    "                \"skewness\",\n",
    "                \"std\",\n",
    "                \"totalPower\",\n",
    "                \"variance\",\n",
    "                \"meandelta\",\n",
    "                \"meanAmplitudedelta\",\n",
    "                \"powerdelta\",\n",
    "                \"rmsdelta\",\n",
    "                \"meanAdelta\",\n",
    "                \"meanFidelta\",\n",
    "                \"meanalpha\",\n",
    "                \"meanAmplitudealpha\",\n",
    "                \"poweralpha\",\n",
    "                \"rmsalpha\",\n",
    "                \"meanAalpha\",\n",
    "                \"meanFialpha\",\n",
    "                \"meantheta\",\n",
    "                \"meanAmplitudetheta\",\n",
    "                \"powertheta\",\n",
    "                \"rmstheta\",\n",
    "                \"meanAtheta\",\n",
    "                \"meanFitheta\"\n",
    "            ]\n",
    "\n",
    "\n",
    "l2 = [\n",
    "            \"amplitudeVariation\",\n",
    "            \"kurtosis\",\n",
    "            \"max\",\n",
    "            \"mean\",\n",
    "            \"meanAmplitude\",\n",
    "            \"meanDerivate_1\",\n",
    "            \"meanDerivate_2\",\n",
    "            \"meanFrequency\",\n",
    "            \"median\",\n",
    "            \"medianFrequency\",\n",
    "            \"min\",\n",
    "            \"rms\",\n",
    "            \"skewness\",\n",
    "            \"std\",\n",
    "            \"totalPower\",\n",
    "            \"variance\",\n",
    "            \"meandelta\",\n",
    "            \"meanAmplitudedelta\",\n",
    "            \"powerdelta\",\n",
    "            \"rmsdelta\",\n",
    "            \"meanAdelta\",\n",
    "            \"meanFidelta\",\n",
    "            \"meanalpha\",\n",
    "            \"meanAmplitudealpha\",\n",
    "            \"poweralpha\",\n",
    "            \"rmsalpha\",\n",
    "            \"meanAalpha\",\n",
    "            \"meanFialpha\",\n",
    "            \"meantheta\",\n",
    "            \"meanAmplitudetheta\",\n",
    "            \"powertheta\",\n",
    "            \"rmstheta\",\n",
    "            \"meanAtheta\",\n",
    "            \"meanFitheta\"\n",
    "        ]\n",
    "\n",
    "\n",
    "\n",
    "difference = [item for item in l2 if item not in l1]"
   ]
  },
  {
   "cell_type": "code",
   "execution_count": 2,
   "metadata": {},
   "outputs": [
    {
     "data": {
      "text/plain": [
       "['meanDerivate_1', 'meanDerivate_2']"
      ]
     },
     "execution_count": 2,
     "metadata": {},
     "output_type": "execute_result"
    }
   ],
   "source": [
    "difference"
   ]
  }
 ],
 "metadata": {
  "kernelspec": {
   "display_name": "base",
   "language": "python",
   "name": "python3"
  },
  "language_info": {
   "codemirror_mode": {
    "name": "ipython",
    "version": 3
   },
   "file_extension": ".py",
   "mimetype": "text/x-python",
   "name": "python",
   "nbconvert_exporter": "python",
   "pygments_lexer": "ipython3",
   "version": "3.10.9"
  },
  "orig_nbformat": 4
 },
 "nbformat": 4,
 "nbformat_minor": 2
}
