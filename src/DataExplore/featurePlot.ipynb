{
 "cells": [
  {
   "cell_type": "code",
   "execution_count": 27,
   "metadata": {},
   "outputs": [],
   "source": [
    "import pandas as pd\n",
    "\n",
    "# Suponha que você tenha o DataFrame df com as colunas fornecidas\n",
    "# Substitua df pelos seus dados reais\n",
    "\n",
    "# Defina as palavras-chave para categorização\n",
    "categorias = [\"alpha\", \"beta\", \"delta\", \"theta\", \"gamma\"]\n",
    "columns = [\n",
    "                \"kurtosis\",\n",
    "                \"mean\",\n",
    "                \"meanAmplitude\",\n",
    "                \"median\",\n",
    "                \"skewness\",\n",
    "                \"totalPower\",\n",
    "                \"variance\",\n",
    "                \"meandelta\",\n",
    "                \"meanAmplitudedelta\",\n",
    "                \"powerdelta\",\n",
    "                \"meanAdelta\",\n",
    "                \"meanFidelta\",\n",
    "                \"meanalpha\",\n",
    "                \"meanAmplitudealpha\",\n",
    "                \"poweralpha\",\n",
    "                \"meanAalpha\",\n",
    "                \"meanFialpha\",\n",
    "                \"meantheta\",\n",
    "                \"meanAmplitudetheta\",\n",
    "                \"powertheta\",\n",
    "                \"meanAtheta\",\n",
    "                \"meanFitheta\",\n",
    "                \"meanbeta\",\n",
    "                \"meanAmplitudebeta\",\n",
    "                \"powerbeta\",\n",
    "                \"meanAbeta\",\n",
    "                \"meanFibeta\",\n",
    "                \"powergamma\"\n",
    "            ]\n",
    "\n",
    "# Inicialize um dicionário para armazenar os DataFrames categorizados\n",
    "categorias_dict = {}"
   ]
  },
  {
   "cell_type": "code",
   "execution_count": 28,
   "metadata": {},
   "outputs": [],
   "source": [
    "base = pd.read_csv('./eegPatternBandDHT.csv')\n",
    "base = base.drop_duplicates(keep='first')"
   ]
  },
  {
   "cell_type": "code",
   "execution_count": 29,
   "metadata": {},
   "outputs": [],
   "source": [
    "# Itere sobre as palavras-chave e crie DataFrames separados para cada categoria\n",
    "for categoria in categorias:\n",
    "    colunas = [col for col in columns if categoria in col]\n",
    "    categorias_dict[categoria] = base[colunas + ['zzclassification']]"
   ]
  },
  {
   "cell_type": "code",
   "execution_count": 30,
   "metadata": {},
   "outputs": [],
   "source": [
    "# Crie um DataFrame para as colunas não correspondentes a nenhuma categoria\n",
    "outras_colunas = [col for col in columns if not any(cat in col for cat in categorias)]\n",
    "categorias_dict['outras'] = base[outras_colunas + ['zzclassification']]"
   ]
  },
  {
   "cell_type": "code",
   "execution_count": 31,
   "metadata": {},
   "outputs": [],
   "source": [
    "#Cria um CSV so com os dados para se plotar no matlab.\n",
    "dht_colunas = [col for col in columns if ('meanFi' in col or ('meanA' in col and 'meanAmpli' not in col ))]\n",
    "categorias_dict['dht'] = base[dht_colunas + ['zzclassification']]"
   ]
  },
  {
   "cell_type": "code",
   "execution_count": 32,
   "metadata": {},
   "outputs": [],
   "source": [
    "# Salve cada DataFrame em um arquivo CSV\n",
    "for categoria, df_categoria in categorias_dict.items():\n",
    "    nome_arquivo = f\"splitted/{categoria}_data.csv\"\n",
    "    df_categoria.to_csv(nome_arquivo, index=False)\n",
    "    with open(f\"splitted/overleafTable/{categoria}_data.csv\",'w') as file:\n",
    "        header = 'Índice & ' + ' & '.join(list(df_categoria.columns)) + ' \\\\\\\\ \\\\hline\\n'\n",
    "        file.write(header)\n",
    "        for index, row in df_categoria.iterrows():\n",
    "            items = row.tolist()\n",
    "            formatted_line = str(index) + ' & ' + ' & '.join(map(str, items)) + ' \\\\\\\\ \\\\hline\\n'\n",
    "            file.write(formatted_line)"
   ]
  },
  {
   "cell_type": "code",
   "execution_count": 33,
   "metadata": {},
   "outputs": [
    {
     "ename": "TypeError",
     "evalue": "sequence item 3: expected str instance, ellipsis found",
     "output_type": "error",
     "traceback": [
      "\u001b[1;31m---------------------------------------------------------------------------\u001b[0m",
      "\u001b[1;31mTypeError\u001b[0m                                 Traceback (most recent call last)",
      "\u001b[1;32mg:\\Meu Drive\\PFC\\Project\\src\\DataExplore\\featurePlot.ipynb Cell 7\u001b[0m line \u001b[0;36m7\n\u001b[0;32m      <a href='vscode-notebook-cell:/g%3A/Meu%20Drive/PFC/Project/src/DataExplore/featurePlot.ipynb#W6sZmlsZQ%3D%3D?line=3'>4</a>\u001b[0m \u001b[39m# Abrir o arquivo de texto em modo de escrita\u001b[39;00m\n\u001b[0;32m      <a href='vscode-notebook-cell:/g%3A/Meu%20Drive/PFC/Project/src/DataExplore/featurePlot.ipynb#W6sZmlsZQ%3D%3D?line=4'>5</a>\u001b[0m \u001b[39mwith\u001b[39;00m \u001b[39mopen\u001b[39m(txt_file, \u001b[39m'\u001b[39m\u001b[39mw\u001b[39m\u001b[39m'\u001b[39m) \u001b[39mas\u001b[39;00m file:\n\u001b[0;32m      <a href='vscode-notebook-cell:/g%3A/Meu%20Drive/PFC/Project/src/DataExplore/featurePlot.ipynb#W6sZmlsZQ%3D%3D?line=5'>6</a>\u001b[0m     \u001b[39m# Escrever cabeçalho\u001b[39;00m\n\u001b[1;32m----> <a href='vscode-notebook-cell:/g%3A/Meu%20Drive/PFC/Project/src/DataExplore/featurePlot.ipynb#W6sZmlsZQ%3D%3D?line=6'>7</a>\u001b[0m     header \u001b[39m=\u001b[39m \u001b[39m'\u001b[39;49m\u001b[39m & \u001b[39;49m\u001b[39m'\u001b[39;49m\u001b[39m.\u001b[39;49mjoin([\u001b[39m'\u001b[39;49m\u001b[39mitem1\u001b[39;49m\u001b[39m'\u001b[39;49m, \u001b[39m'\u001b[39;49m\u001b[39mitem2\u001b[39;49m\u001b[39m'\u001b[39;49m, \u001b[39m'\u001b[39;49m\u001b[39mitem3\u001b[39;49m\u001b[39m'\u001b[39;49m, \u001b[39m.\u001b[39;49m\u001b[39m.\u001b[39;49m\u001b[39m.\u001b[39;49m]) \u001b[39m+\u001b[39m \u001b[39m'\u001b[39m\u001b[39m \u001b[39m\u001b[39m\\\\\u001b[39;00m\u001b[39m\\\\\u001b[39;00m\u001b[39m \u001b[39m\u001b[39m\\\\\u001b[39;00m\u001b[39mhline\u001b[39m\u001b[39m\\n\u001b[39;00m\u001b[39m'\u001b[39m\n\u001b[0;32m      <a href='vscode-notebook-cell:/g%3A/Meu%20Drive/PFC/Project/src/DataExplore/featurePlot.ipynb#W6sZmlsZQ%3D%3D?line=7'>8</a>\u001b[0m     file\u001b[39m.\u001b[39mwrite(header)\n\u001b[0;32m     <a href='vscode-notebook-cell:/g%3A/Meu%20Drive/PFC/Project/src/DataExplore/featurePlot.ipynb#W6sZmlsZQ%3D%3D?line=9'>10</a>\u001b[0m     \u001b[39m# Iterar pelos dataframes e escrever o conteúdo no formato desejado\u001b[39;00m\n",
      "\u001b[1;31mTypeError\u001b[0m: sequence item 3: expected str instance, ellipsis found"
     ]
    }
   ],
   "source": [
    "\n",
    "# Nome do arquivo de texto\n",
    "txt_file = 'output.txt'\n",
    "\n",
    "# Abrir o arquivo de texto em modo de escrita\n",
    "with open(txt_file, 'w') as file:\n",
    "    # Escrever cabeçalho\n",
    "    header = ' & '.join(['item1', 'item2', 'item3', ...]) + ' \\\\\\\\ \\\\hline\\n'\n",
    "    file.write(header)\n",
    "\n",
    "    # Iterar pelos dataframes e escrever o conteúdo no formato desejado\n",
    "    for df in dataframes:\n",
    "        # Iterar pelas linhas do dataframe\n",
    "        for index, row in df.iterrows():\n",
    "            items = row.tolist()\n",
    "            formatted_line = ' & '.join(map(str, items)) + ' \\\\\\\\ \\\\hline\\n'\n",
    "            file.write(formatted_line)"
   ]
  }
 ],
 "metadata": {
  "kernelspec": {
   "display_name": "base",
   "language": "python",
   "name": "python3"
  },
  "language_info": {
   "codemirror_mode": {
    "name": "ipython",
    "version": 3
   },
   "file_extension": ".py",
   "mimetype": "text/x-python",
   "name": "python",
   "nbconvert_exporter": "python",
   "pygments_lexer": "ipython3",
   "version": "3.10.9"
  }
 },
 "nbformat": 4,
 "nbformat_minor": 2
}
