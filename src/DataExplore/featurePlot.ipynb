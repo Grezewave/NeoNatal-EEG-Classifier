{
 "cells": [
  {
   "cell_type": "code",
   "execution_count": 46,
   "metadata": {},
   "outputs": [],
   "source": [
    "import pandas as pd\n",
    "\n",
    "# Suponha que você tenha o DataFrame df com as colunas fornecidas\n",
    "# Substitua df pelos seus dados reais\n",
    "\n",
    "# Defina as palavras-chave para categorização\n",
    "categorias = [\"alpha\", \"beta\", \"delta\", \"theta\", \"gamma\"]\n",
    "columns = [\n",
    "                \"kurtosis\",\n",
    "                \"mean\",\n",
    "                \"meanAmplitude\",\n",
    "                \"median\",\n",
    "                \"skewness\",\n",
    "                \"totalPower\",\n",
    "                \"variance\",\n",
    "                \"meandelta\",\n",
    "                \"meanAmplitudedelta\",\n",
    "                \"powerdelta\",\n",
    "                \"meanAdelta\",\n",
    "                \"meanFidelta\",\n",
    "                \"meanalpha\",\n",
    "                \"meanAmplitudealpha\",\n",
    "                \"poweralpha\",\n",
    "                \"meanAalpha\",\n",
    "                \"meanFialpha\",\n",
    "                \"meantheta\",\n",
    "                \"meanAmplitudetheta\",\n",
    "                \"powertheta\",\n",
    "                \"meanAtheta\",\n",
    "                \"meanFitheta\",\n",
    "                \"meanbeta\",\n",
    "                \"meanAmplitudebeta\",\n",
    "                \"powerbeta\",\n",
    "                \"meanAbeta\",\n",
    "                \"meanFibeta\",\n",
    "                \"powergamma\"\n",
    "            ]\n",
    "\n",
    "# Inicialize um dicionário para armazenar os DataFrames categorizados\n",
    "categorias_dict = {}"
   ]
  },
  {
   "cell_type": "code",
   "execution_count": 47,
   "metadata": {},
   "outputs": [
    {
     "name": "stdout",
     "output_type": "stream",
     "text": [
      "    kurtosis      mean  meanAmplitude  meanFrequency    median  \\\n",
      "0    11.5723 -0.310300        0.64558       0.084093 -0.615560   \n",
      "1     7.0162 -0.314940        0.20093       0.051268 -0.827660   \n",
      "2     3.6025 -1.321800        1.23030       0.036277 -2.901600   \n",
      "4     3.9980  1.023900        5.20380       0.045542 -0.903780   \n",
      "5     7.7734 -2.064500        1.09900       0.045057 -2.650700   \n",
      "..       ...       ...            ...            ...       ...   \n",
      "72    3.2226 -0.063058        1.74540       0.045462 -0.007136   \n",
      "73    3.9027 -1.159700        1.05180       0.042820 -2.256000   \n",
      "74    2.7070 -0.543080        2.31060       0.055341 -1.003900   \n",
      "75    4.7007 -0.427010        2.99220       0.045443  0.125820   \n",
      "76    3.9027 -1.159700        1.05180       0.042820 -2.256000   \n",
      "\n",
      "    medianFrequency  skewness  totalPower  variance zzclassification  ...  \\\n",
      "0          0.031330  1.245500   2494.0973   60.8402               TA  ...   \n",
      "1          0.024136  1.058400   2783.4228   67.9031               TA  ...   \n",
      "2          0.018814  0.414100  21548.0296  525.0551               TA  ...   \n",
      "4          0.023091  0.379710  28025.9247  683.6762               TA  ...   \n",
      "5          0.020930  0.116430  21138.1890  513.4533               TA  ...   \n",
      "..              ...       ...         ...       ...              ...  ...   \n",
      "72         0.023847  0.049161  15315.6161  373.9762               TA  ...   \n",
      "73         0.018735  0.216970  28952.4461  706.1121              HVS  ...   \n",
      "74         0.018504  0.068108  12776.0178  311.7795              HVS  ...   \n",
      "75         0.022391  0.176190  31920.7316  779.3291               TA  ...   \n",
      "76         0.018735  0.216970  28952.4461  706.1121               TA  ...   \n",
      "\n",
      "    meanbeta  meanAmplitudebeta  powerbeta  meanAbeta  meanFibeta  meangamma  \\\n",
      "0  -0.000459            1.00790    48.0378     1.3049     13.1943  -0.000324   \n",
      "1  -0.000803            0.95488    30.2312     1.2011     12.4959  -0.000505   \n",
      "2   0.005447            2.56130   211.7835     3.2146     33.2020   0.003836   \n",
      "4  -0.001976            2.91680   318.9589     3.7166     38.5210  -0.000680   \n",
      "5   0.002950            2.59180   258.8602     3.3874     33.7424   0.001868   \n",
      "..       ...                ...        ...        ...         ...        ...   \n",
      "72  0.005440            1.66830    90.3816     2.1686     21.6588   0.003516   \n",
      "73  0.001153            2.16720   148.4985     2.7236     28.3230   0.000785   \n",
      "74 -0.001816            2.50190   188.0247     3.1893     32.8847  -0.001347   \n",
      "75  0.004711            2.41950   202.5840     3.0583     30.4531   0.002415   \n",
      "76  0.001153            2.16720   148.4985     2.7236     28.3230   0.000785   \n",
      "\n",
      "    meanAmplitudegamma  powergamma  meanAgamma  meanFigamma  \n",
      "0              0.69897     24.3555     1.08950      13.6041  \n",
      "1              0.32039      5.5139     0.54754       8.4207  \n",
      "2              0.72781     29.7440     1.14070      18.4952  \n",
      "4              0.79973     51.7185     1.25720      20.4667  \n",
      "5              0.83125     34.7109     1.28830      21.0773  \n",
      "..                 ...         ...         ...          ...  \n",
      "72             0.58207     19.0544     0.92788      15.0425  \n",
      "73             0.64721     18.0857     0.97812      16.0203  \n",
      "74             0.75866     24.1519     1.15050      18.9578  \n",
      "75             0.68570     21.0479     1.03300      16.9512  \n",
      "76             0.64721     18.0857     0.97812      16.0203  \n",
      "\n",
      "[61 rows x 35 columns]\n"
     ]
    }
   ],
   "source": [
    "base = pd.read_csv('./eegPatternBandDHT.csv')\n",
    "base = base.drop_duplicates(keep='first')\n",
    "print(base)"
   ]
  },
  {
   "cell_type": "code",
   "execution_count": 48,
   "metadata": {},
   "outputs": [],
   "source": [
    "# Itere sobre as palavras-chave e crie DataFrames separados para cada categoria\n",
    "for categoria in categorias:\n",
    "    colunas = [col for col in columns if categoria in col]\n",
    "    categorias_dict[categoria] = base[colunas + ['zzclassification']]"
   ]
  },
  {
   "cell_type": "code",
   "execution_count": 49,
   "metadata": {},
   "outputs": [],
   "source": [
    "# Crie um DataFrame para as colunas não correspondentes a nenhuma categoria\n",
    "outras_colunas = [col for col in columns if not any(cat in col for cat in categorias)]\n",
    "categorias_dict['outras'] = base[outras_colunas + ['zzclassification']]"
   ]
  },
  {
   "cell_type": "code",
   "execution_count": 50,
   "metadata": {},
   "outputs": [],
   "source": [
    "#Cria um CSV so com os dados para se plotar no matlab.\n",
    "dht_colunas = [col for col in columns if ('meanFi' in col or ('meanA' in col and 'meanAmpli' not in col ))]\n",
    "categorias_dict['dht'] = base[dht_colunas + ['zzclassification']]"
   ]
  },
  {
   "cell_type": "code",
   "execution_count": 51,
   "metadata": {},
   "outputs": [],
   "source": [
    "# Salve cada DataFrame em um arquivo CSV\n",
    "for categoria, df_categoria in categorias_dict.items():\n",
    "    nome_arquivo = f\"splitted/{categoria}_data.csv\"\n",
    "    df_categoria.to_csv(nome_arquivo)\n",
    "    with open(f\"splitted/overleafTable/{categoria}_data.csv\",'w') as file:\n",
    "        header = 'Índice & ' + ' & '.join(list(df_categoria.columns)) + ' \\\\\\\\ \\\\hline\\n'\n",
    "        file.write(header)\n",
    "        i = 1\n",
    "        for index, row in df_categoria.iterrows():\n",
    "            items = row.tolist()\n",
    "            formatted_line = str(i) + ' & ' + ' & '.join(map(str, items)) + ' \\\\\\\\ \\\\hline\\n'\n",
    "            file.write(formatted_line)\n",
    "            i+=1"
   ]
  }
 ],
 "metadata": {
  "kernelspec": {
   "display_name": "base",
   "language": "python",
   "name": "python3"
  },
  "language_info": {
   "codemirror_mode": {
    "name": "ipython",
    "version": 3
   },
   "file_extension": ".py",
   "mimetype": "text/x-python",
   "name": "python",
   "nbconvert_exporter": "python",
   "pygments_lexer": "ipython3",
   "version": "3.10.9"
  }
 },
 "nbformat": 4,
 "nbformat_minor": 2
}
