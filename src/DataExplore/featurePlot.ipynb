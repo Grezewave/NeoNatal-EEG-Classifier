{
 "cells": [
  {
   "cell_type": "code",
   "execution_count": 8,
   "metadata": {},
   "outputs": [],
   "source": [
    "import pandas as pd\n",
    "\n",
    "# Suponha que você tenha o DataFrame df com as colunas fornecidas\n",
    "# Substitua df pelos seus dados reais\n",
    "\n",
    "# Defina as palavras-chave para categorização\n",
    "categorias = [\"alpha\", \"beta\", \"delta\", \"theta\", \"gamma\"]\n",
    "columns = [\n",
    "                \"kurtosis\",\n",
    "                \"mean\",\n",
    "                \"meanAmplitude\",\n",
    "                \"median\",\n",
    "                \"skewness\",\n",
    "                \"totalPower\",\n",
    "                \"variance\",\n",
    "                \"meandelta\",\n",
    "                \"meanAmplitudedelta\",\n",
    "                \"powerdelta\",\n",
    "                \"meanAdelta\",\n",
    "                \"meanFidelta\",\n",
    "                \"meanalpha\",\n",
    "                \"meanAmplitudealpha\",\n",
    "                \"poweralpha\",\n",
    "                \"meanAalpha\",\n",
    "                \"meanFialpha\",\n",
    "                \"meantheta\",\n",
    "                \"meanAmplitudetheta\",\n",
    "                \"powertheta\",\n",
    "                \"meanAtheta\",\n",
    "                \"meanFitheta\",\n",
    "                \"meanbeta\",\n",
    "                \"meanAmplitudebeta\",\n",
    "                \"powerbeta\",\n",
    "                \"meanAbeta\",\n",
    "                \"meanFibeta\",\n",
    "                \"powergamma\"\n",
    "            ]\n",
    "\n",
    "# Inicialize um dicionário para armazenar os DataFrames categorizados\n",
    "categorias_dict = {}"
   ]
  },
  {
   "cell_type": "code",
   "execution_count": 9,
   "metadata": {},
   "outputs": [],
   "source": [
    "base = pd.read_csv('./eegPatternBandDHT.csv')\n",
    "base = base.drop_duplicates(keep='first')"
   ]
  },
  {
   "cell_type": "code",
   "execution_count": 10,
   "metadata": {},
   "outputs": [],
   "source": [
    "# Itere sobre as palavras-chave e crie DataFrames separados para cada categoria\n",
    "for categoria in categorias:\n",
    "    colunas = [col for col in columns if categoria in col]\n",
    "    categorias_dict[categoria] = base[colunas + ['zzclassification']]"
   ]
  },
  {
   "cell_type": "code",
   "execution_count": 11,
   "metadata": {},
   "outputs": [],
   "source": [
    "# Crie um DataFrame para as colunas não correspondentes a nenhuma categoria\n",
    "outras_colunas = [col for col in columns if not any(cat in col for cat in categorias)]\n",
    "categorias_dict['outras'] = base[outras_colunas]"
   ]
  },
  {
   "cell_type": "code",
   "execution_count": 12,
   "metadata": {},
   "outputs": [],
   "source": [
    "#Cria um CSV so com os dados para se plotar no matlab.\n",
    "dht_colunas = [col for col in columns if ('meanFi' in col or ('meanA' in col and 'meanAmpli' not in col ))]\n",
    "categorias_dict['dht'] = base[dht_colunas + ['zzclassification']]"
   ]
  },
  {
   "cell_type": "code",
   "execution_count": 13,
   "metadata": {},
   "outputs": [],
   "source": [
    "# Salve cada DataFrame em um arquivo CSV\n",
    "for categoria, df_categoria in categorias_dict.items():\n",
    "    nome_arquivo = f\"splitted/{categoria}_data.csv\"\n",
    "    df_categoria.to_csv(nome_arquivo, index=False)"
   ]
  }
 ],
 "metadata": {
  "kernelspec": {
   "display_name": "base",
   "language": "python",
   "name": "python3"
  },
  "language_info": {
   "codemirror_mode": {
    "name": "ipython",
    "version": 3
   },
   "file_extension": ".py",
   "mimetype": "text/x-python",
   "name": "python",
   "nbconvert_exporter": "python",
   "pygments_lexer": "ipython3",
   "version": "3.10.9"
  }
 },
 "nbformat": 4,
 "nbformat_minor": 2
}
